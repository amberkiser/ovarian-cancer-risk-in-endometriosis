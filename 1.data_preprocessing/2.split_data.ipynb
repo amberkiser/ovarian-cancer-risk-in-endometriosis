{
 "cells": [
  {
   "cell_type": "code",
   "execution_count": null,
   "metadata": {},
   "outputs": [],
   "source": [
    "import pandas as pd\n",
    "from sklearn.preprocessing import MinMaxScaler\n",
    "from sklearn.utils import resample, shuffle\n",
    "import pickle\n",
    "import numpy as np"
   ]
  },
  {
   "cell_type": "markdown",
   "metadata": {},
   "source": [
    "# Split Data "
   ]
  },
  {
   "cell_type": "code",
   "execution_count": null,
   "metadata": {},
   "outputs": [],
   "source": [
    "final_combined = pd.read_pickle('observation_10_prediction_10_endo.pkl')\n",
    "\n",
    "with open('train_pts.pkl', 'rb') as f:\n",
    "    train_pts = pickle.load(f)\n",
    "with open('test_pts.pkl', 'rb') as f:\n",
    "    test_pts = pickle.load(f)"
   ]
  },
  {
   "cell_type": "code",
   "execution_count": null,
   "metadata": {},
   "outputs": [],
   "source": [
    "final_combined['ovarian_ca'] = final_combined['ovarian_ca'].fillna(0).astype(int)"
   ]
  },
  {
   "cell_type": "code",
   "execution_count": null,
   "metadata": {},
   "outputs": [],
   "source": [
    "train_data = final_combined.loc[final_combined['Masked_PersonID'].isin(train_pts)] \n",
    "test_data = final_combined.loc[final_combined['Masked_PersonID'].isin(test_pts)] "
   ]
  },
  {
   "cell_type": "markdown",
   "metadata": {},
   "source": [
    "## Downsample negative class to get original ovarian cancer prevalence of 0.003 (0.3%)"
   ]
  },
  {
   "cell_type": "code",
   "execution_count": null,
   "metadata": {},
   "outputs": [],
   "source": [
    "pos = train_data.loc[train_data['ovarian_ca'] == 1].copy()\n",
    "neg = train_data.loc[train_data['ovarian_ca'] == 0].copy()\n",
    "\n",
    "# Find number of negative cases needed to make the ovarian cancer ratio = 0.003 (original prevalence)\n",
    "neg_samples = int((len(pos.index) - 0.003*len(pos.index))/0.003)\n",
    "neg = resample(neg, replace=False, n_samples=neg_samples)\n",
    "            \n",
    "train_data = pd.concat([pos, neg]).reset_index(drop=True)\n",
    "train_data = shuffle(train_data).reset_index(drop=True)"
   ]
  },
  {
   "cell_type": "code",
   "execution_count": null,
   "metadata": {},
   "outputs": [],
   "source": [
    "pos = test_data.loc[test_data['ovarian_ca'] == 1].copy()\n",
    "neg = test_data.loc[test_data['ovarian_ca'] == 0].copy()\n",
    "\n",
    "# Find number of negative cases needed to make the ovarian cancer ratio = 0.003 (original prevalence)\n",
    "neg_samples = int((len(pos.index) - 0.003*len(pos.index))/0.003)\n",
    "neg = resample(neg, replace=False, n_samples=neg_samples)\n",
    "            \n",
    "test_data = pd.concat([pos, neg]).reset_index(drop=True)\n",
    "test_data = shuffle(test_data).reset_index(drop=True)"
   ]
  },
  {
   "cell_type": "markdown",
   "metadata": {},
   "source": [
    "# Impute Data\n",
    "Impute with medians for continuous variables and zero for categorical variables."
   ]
  },
  {
   "cell_type": "code",
   "execution_count": null,
   "metadata": {},
   "outputs": [],
   "source": [
    "continuous_cols = ['BWgtGrams','MaAge','MotherBMI','age','BMI']\n",
    "medians = train_data[continuous_cols].median().to_dict()\n",
    "categorical_cols = [col for col in train_data.columns if col not in continuous_cols]\n",
    "categorical_types = dict(zip(categorical_cols, [int] * len(categorical_cols)))\n",
    "\n",
    "train_data = train_data.fillna(medians)\n",
    "train_data = train_data.fillna(0)\n",
    "train_data = train_data.astype(categorical_types)"
   ]
  },
  {
   "cell_type": "code",
   "execution_count": null,
   "metadata": {},
   "outputs": [],
   "source": [
    "test_data = test_data.fillna(medians)\n",
    "test_data = test_data.fillna(0)\n",
    "test_data = test_data.astype(categorical_types)"
   ]
  },
  {
   "cell_type": "markdown",
   "metadata": {},
   "source": [
    "# Scale Data"
   ]
  },
  {
   "cell_type": "code",
   "execution_count": null,
   "metadata": {},
   "outputs": [],
   "source": [
    "scaler = MinMaxScaler(feature_range=(0,1))\n",
    "scaler.fit(train_data.drop(columns=['ovarian_ca', 'new_ID', 'Masked_PersonID']))"
   ]
  },
  {
   "cell_type": "code",
   "execution_count": null,
   "metadata": {},
   "outputs": [],
   "source": [
    "train_X = scaler.transform(train_data.drop(columns=['ovarian_ca', 'new_ID', 'Masked_PersonID']))\n",
    "train_y = train_data['ovarian_ca'].values"
   ]
  },
  {
   "cell_type": "code",
   "execution_count": null,
   "metadata": {},
   "outputs": [],
   "source": [
    "test_X = scaler.transform(test_data.drop(columns=['ovarian_ca', 'new_ID', 'Masked_PersonID']))\n",
    "test_y = test_data['ovarian_ca'].values"
   ]
  },
  {
   "cell_type": "markdown",
   "metadata": {},
   "source": [
    "# Save Data"
   ]
  },
  {
   "cell_type": "code",
   "execution_count": null,
   "metadata": {},
   "outputs": [],
   "source": [
    "with open('X_columns.pkl', 'wb') as f:\n",
    "    pickle.dump(train_data.drop(columns=['ovarian_ca', 'new_ID', 'Masked_PersonID']).columns.tolist(), f)\n",
    "with open('medians.pkl', 'wb') as f:\n",
    "    pickle.dump(medians, f)\n",
    "with open('scaler.pkl', 'wb') as f:\n",
    "    pickle.dump(scaler, f)\n",
    "\n",
    "with open('train_X.pkl', 'wb') as f:\n",
    "    pickle.dump(train_X, f)\n",
    "with open('train_y.pkl', 'wb') as f:\n",
    "    pickle.dump(train_y, f)\n",
    "    \n",
    "with open('test_X.pkl', 'wb') as f:\n",
    "    pickle.dump(test_X, f)\n",
    "with open('test_y.pkl', 'wb') as f:\n",
    "    pickle.dump(test_y, f)"
   ]
  },
  {
   "cell_type": "code",
   "execution_count": null,
   "metadata": {},
   "outputs": [],
   "source": []
  }
 ],
 "metadata": {
  "kernelspec": {
   "display_name": "Python 3",
   "language": "python",
   "name": "python3"
  },
  "language_info": {
   "codemirror_mode": {
    "name": "ipython",
    "version": 3
   },
   "file_extension": ".py",
   "mimetype": "text/x-python",
   "name": "python",
   "nbconvert_exporter": "python",
   "pygments_lexer": "ipython3",
   "version": "3.8.3"
  }
 },
 "nbformat": 4,
 "nbformat_minor": 5
}
