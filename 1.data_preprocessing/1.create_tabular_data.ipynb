{
 "cells": [
  {
   "cell_type": "code",
   "execution_count": null,
   "metadata": {},
   "outputs": [],
   "source": [
    "import pandas as pd\n",
    "import re\n",
    "import numpy as np\n",
    "from sklearn.model_selection import train_test_split\n",
    "import pickle\n",
    "\n",
    "import seaborn as sns\n",
    "import matplotlib.pyplot as plt"
   ]
  },
  {
   "cell_type": "markdown",
   "metadata": {},
   "source": [
    "# Create tabular datasets using sliding windows\n",
    "\n",
    "* Use sliding window method to create temporally aware datasets.\n",
    "* Use 10 year observation window and 10 year prediction window.\n",
    "* Censor patients when: ovarian cancer diagnosis, death, bilateral oophorectomy or bilateral salpingo-oophorectomy, or 1-1-2022\n"
   ]
  },
  {
   "cell_type": "code",
   "execution_count": null,
   "metadata": {},
   "outputs": [],
   "source": [
    "# endo_demo = starting demographic data\n",
    "# temporal_events = starting temporal data"
   ]
  },
  {
   "cell_type": "markdown",
   "metadata": {},
   "source": [
    "### Get start and censor dates for both cohorts"
   ]
  },
  {
   "cell_type": "code",
   "execution_count": null,
   "metadata": {},
   "outputs": [],
   "source": [
    "start_dates = pd.read_pickle('start_dates.pkl')\n",
    "# start_dates.head()"
   ]
  },
  {
   "cell_type": "code",
   "execution_count": null,
   "metadata": {},
   "outputs": [],
   "source": [
    "end_dates = pd.read_pickle('end_dates.pkl')\n",
    "# end_dates.head()"
   ]
  },
  {
   "cell_type": "markdown",
   "metadata": {},
   "source": [
    "### Create sliding window datasets"
   ]
  },
  {
   "cell_type": "code",
   "execution_count": null,
   "metadata": {},
   "outputs": [],
   "source": [
    "# Observation Window = 10 years\n",
    "# Prediction Window = 10 years\n",
    "\n",
    "endo_demo = endo_demo.merge(start_dates, how='inner',on='Masked_PersonID')\n",
    "endo_demo = endo_demo.merge(end_dates, how='inner',on='Masked_PersonID')\n",
    "\n",
    "# Initialize\n",
    "endo_demo['obs_start'] = endo_demo['start_date']\n",
    "endo_demo['obs_end'] = endo_demo['obs_start'] + pd.offsets.DateOffset(years=10)\n",
    "endo_demo['pred_start'] = endo_demo['obs_end']\n",
    "endo_demo['pred_end'] = endo_demo['pred_start'] + pd.offsets.DateOffset(years=10)\n",
    "\n",
    "i = 1\n",
    "\n",
    "temp_outcomes = endo_demo.loc[endo_demo['end_date'] >= endo_demo['obs_end']].reset_index(drop=True).copy()\n",
    "temp_outcomes['age'] = (temp_outcomes['obs_end'] - temp_outcomes['BDate']) / np.timedelta64(1, 'Y')\n",
    "temp_outcomes.loc[(temp_outcomes['pred_start'] <= temp_outcomes['ovarian_ca_dx_date']) &\n",
    "                  (temp_outcomes['ovarian_ca_dx_date'] < temp_outcomes['pred_end']), 'ovarian_ca'] = 1\n",
    "temp_outcomes = temp_outcomes.drop(columns=['BDate','ovarian_ca_dx_date'])\n",
    "temp_outcomes['new_ID'] = temp_outcomes['Masked_PersonID'].astype(str) + '_' + str(i)\n",
    "outcomes = temp_outcomes\n",
    "\n",
    "while True:\n",
    "    # Incremement\n",
    "    i=i+1\n",
    "    endo_demo['obs_start'] = endo_demo['obs_start'] + pd.offsets.DateOffset(years=1)\n",
    "    endo_demo['obs_end'] = endo_demo['obs_end'] + pd.offsets.DateOffset(years=1)\n",
    "    endo_demo['pred_start'] = endo_demo['pred_start'] + pd.offsets.DateOffset(years=1)\n",
    "    endo_demo['pred_end'] = endo_demo['pred_end'] + pd.offsets.DateOffset(years=1)\n",
    "    \n",
    "    # Subset\n",
    "    temp_outcomes = endo_demo.loc[endo_demo['end_date'] >= endo_demo['obs_end']].reset_index(drop=True).copy()\n",
    "    \n",
    "    # Check\n",
    "    if len(temp_outcomes.index) <= 0:\n",
    "        break\n",
    "    \n",
    "    temp_outcomes['age'] = (temp_outcomes['obs_end'] - temp_outcomes['BDate']) / np.timedelta64(1, 'Y')\n",
    "    temp_outcomes.loc[(temp_outcomes['pred_start'] <= temp_outcomes['ovarian_ca_dx_date']) &\n",
    "                      (temp_outcomes['ovarian_ca_dx_date'] < temp_outcomes['pred_end']), 'ovarian_ca'] = 1\n",
    "    temp_outcomes = temp_outcomes.drop(columns=['BDate','ovarian_ca_dx_date'])\n",
    "    temp_outcomes['new_ID'] = temp_outcomes['Masked_PersonID'].astype(str) + '_' + str(i)\n",
    "    outcomes = pd.concat([outcomes, temp_outcomes])"
   ]
  },
  {
   "cell_type": "code",
   "execution_count": null,
   "metadata": {},
   "outputs": [],
   "source": [
    "observations = outcomes.merge(temporal_events.loc[(temporal_events['event'] != 'ovarian_ca') & \n",
    "                                                  (temporal_events['event'] != 'Unknown') & \n",
    "                                                  (temporal_events['event'] != 'bilateral_removal')], \n",
    "                              how='left', on='Masked_PersonID')\n",
    "\n",
    "observations = observations.loc[(observations['obs_start'] <= observations['Event_Date']) &\n",
    "                                (observations['Event_Date'] < observations['obs_end'])].reset_index(drop=True)\n",
    "\n",
    "obs_pivot = observations[['new_ID','value','event']].pivot_table(values='value', index='new_ID', columns='event',\n",
    "                                                                 aggfunc='max').reset_index()\n",
    "\n",
    "final_combined = outcomes.merge(obs_pivot, how='left', on='new_ID')\n",
    "final_combined = final_combined.drop(columns=['start_date','end_date','obs_start','obs_end','pred_start',\n",
    "                                              'pred_end'])"
   ]
  },
  {
   "cell_type": "code",
   "execution_count": null,
   "metadata": {},
   "outputs": [],
   "source": [
    "final_combined.to_pickle('observation_10_prediction_10_endo.pkl')"
   ]
  },
  {
   "cell_type": "code",
   "execution_count": null,
   "metadata": {},
   "outputs": [],
   "source": [
    "print(final_combined['ovarian_ca'].sum())\n",
    "final_combined"
   ]
  },
  {
   "cell_type": "code",
   "execution_count": null,
   "metadata": {},
   "outputs": [],
   "source": [
    "# Observation Window = 10 years\n",
    "# Prediction Window = 10 years\n",
    "# 1,047,367 rows\n",
    "# 1413 ovarian cancer cases"
   ]
  },
  {
   "cell_type": "code",
   "execution_count": null,
   "metadata": {},
   "outputs": [],
   "source": []
  }
 ],
 "metadata": {
  "kernelspec": {
   "display_name": "Python 3",
   "language": "python",
   "name": "python3"
  },
  "language_info": {
   "codemirror_mode": {
    "name": "ipython",
    "version": 3
   },
   "file_extension": ".py",
   "mimetype": "text/x-python",
   "name": "python",
   "nbconvert_exporter": "python",
   "pygments_lexer": "ipython3",
   "version": "3.8.3"
  }
 },
 "nbformat": 4,
 "nbformat_minor": 5
}
