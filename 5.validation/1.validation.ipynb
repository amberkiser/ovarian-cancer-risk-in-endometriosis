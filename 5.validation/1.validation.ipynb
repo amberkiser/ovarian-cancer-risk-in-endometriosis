{
 "cells": [
  {
   "cell_type": "code",
   "execution_count": null,
   "metadata": {},
   "outputs": [],
   "source": [
    "import pandas as pd\n",
    "import pickle\n",
    "import joblib\n",
    "\n",
    "from nn_load_data import LoadNNData\n",
    "from nn_utils import *\n",
    "from nn_models import *"
   ]
  },
  {
   "cell_type": "markdown",
   "metadata": {},
   "source": [
    "# Validation"
   ]
  },
  {
   "cell_type": "code",
   "execution_count": null,
   "metadata": {},
   "outputs": [],
   "source": [
    "# Load data\n",
    "with open('selected_columns_rf.pkl', 'rb') as f:\n",
    "    selected_columns = pickle.load(f)\n",
    "\n",
    "\n",
    "with open('X_columns.pkl', 'rb') as f:\n",
    "    X_columns = pickle.load(f)\n",
    "with open('train_X.pkl', 'rb') as f:\n",
    "    train_X = pickle.load(f)\n",
    "with open('train_y.pkl', 'rb') as f:\n",
    "    train_y = pickle.load(f)\n",
    "with open('test_X.pkl', 'rb') as f:\n",
    "    test_X = pickle.load(f)\n",
    "with open('test_y.pkl', 'rb') as f:\n",
    "    test_y = pickle.load(f)\n"
   ]
  },
  {
   "cell_type": "code",
   "execution_count": null,
   "metadata": {},
   "outputs": [],
   "source": [
    "train_X = pd.DataFrame(train_X, columns=X_columns)\n",
    "train_X = train_X[selected_columns]\n",
    "train_X = train_X.values\n",
    "\n",
    "test_X = pd.DataFrame(test_X, columns=X_columns)\n",
    "test_X = test_X[selected_columns]\n",
    "test_X = test_X.values"
   ]
  },
  {
   "cell_type": "code",
   "execution_count": null,
   "metadata": {},
   "outputs": [],
   "source": [
    "# Load models\n",
    "nb_clf = joblib.load('nb_model.joblib')\n",
    "lr_clf = joblib.load('lr_model.joblib')\n",
    "rf_clf = joblib.load('rf_model.joblib')"
   ]
  },
  {
   "cell_type": "code",
   "execution_count": null,
   "metadata": {},
   "outputs": [],
   "source": [
    "# Load NN model\n",
    "batch_size = 2048\n",
    "number_of_features = len(selected_columns)\n",
    "input_size = number_of_features\n",
    "h1_size = 32\n",
    "h2_size = 16\n",
    "output_size = 1\n",
    "sigmoid = nn.Sigmoid()\n",
    "device='cpu'\n",
    "\n",
    "NN_model = NeuralNetModule(input_size, h1_size, h2_size, output_size)\n",
    "NN_model.load_state_dict(torch.load('NN_model.st'))\n",
    "NN_model = NN_model.double()\n",
    "NN_model.eval()\n",
    "\n",
    "train_loader = LoadNNData(train_X, train_y, batch_size)\n",
    "test_loader = LoadNNData(test_X, test_y, batch_size)"
   ]
  },
  {
   "cell_type": "code",
   "execution_count": null,
   "metadata": {},
   "outputs": [],
   "source": [
    "# Get train predictions\n",
    "y_pred_nb_train = nb_clf.predict(train_X)\n",
    "y_prob_nb_train = nb_clf.predict_proba(train_X)\n",
    "y_prob_nb_train = y_prob_nb_train[:, 1]\n",
    "\n",
    "y_pred_lr_train = lr_clf.predict(train_X)\n",
    "y_prob_lr_train = lr_clf.predict_proba(train_X)\n",
    "y_prob_lr_train = y_prob_lr_train[:, 1]\n",
    "\n",
    "y_pred_rf_train = rf_clf.predict(train_X)\n",
    "y_prob_rf_train = rf_clf.predict_proba(train_X)\n",
    "y_prob_rf_train = y_prob_rf_train[:, 1]\n",
    "\n",
    "y_true_nn_train, y_prob_nn_train = get_predictions(NN_model, device, train_loader, sigmoid)\n",
    "y_pred_nn_train = np.where(y_prob_nn_train > 0.5, 1, 0)"
   ]
  },
  {
   "cell_type": "code",
   "execution_count": null,
   "metadata": {},
   "outputs": [],
   "source": [
    "# Get test predictions\n",
    "y_pred_nb_test = nb_clf.predict(test_X)\n",
    "y_prob_nb_test = nb_clf.predict_proba(test_X)\n",
    "y_prob_nb_test = y_prob_nb_test[:, 1]\n",
    "\n",
    "y_pred_lr_test = lr_clf.predict(test_X)\n",
    "y_prob_lr_test = lr_clf.predict_proba(test_X)\n",
    "y_prob_lr_test = y_prob_lr_test[:, 1]\n",
    "\n",
    "y_pred_rf_test = rf_clf.predict(test_X)\n",
    "y_prob_rf_test = rf_clf.predict_proba(test_X)\n",
    "y_prob_rf_test = y_prob_rf_test[:, 1]\n",
    "\n",
    "y_true_nn_test, y_prob_nn_test = get_predictions(NN_model, device, test_loader, sigmoid)\n",
    "y_pred_nn_test = np.where(y_prob_nn_test > 0.5, 1, 0)"
   ]
  },
  {
   "cell_type": "code",
   "execution_count": null,
   "metadata": {},
   "outputs": [],
   "source": [
    "nb_predictions = {'train': {'y_pred': y_pred_nb_train, 'y_prob': y_prob_nb_train},\n",
    "                  'test': {'y_pred': y_pred_nb_test, 'y_prob': y_prob_nb_test}}\n",
    "\n",
    "lr_predictions = {'train': {'y_pred': y_pred_lr_train, 'y_prob': y_prob_lr_train},\n",
    "                  'test': {'y_pred': y_pred_lr_test, 'y_prob': y_prob_lr_test}}\n",
    "\n",
    "rf_predictions = {'train': {'y_pred': y_pred_rf_train, 'y_prob': y_prob_rf_train},\n",
    "                  'test': {'y_pred': y_pred_rf_test, 'y_prob': y_prob_rf_test}}\n",
    "\n",
    "nn_predictions = {'train': {'y_pred': y_pred_nn_train, 'y_prob': y_prob_nn_train, 'y_true': y_true_nn_train},\n",
    "                  'test': {'y_pred': y_pred_nn_test, 'y_prob': y_prob_nn_test, 'y_true': y_true_nn_test}}"
   ]
  },
  {
   "cell_type": "code",
   "execution_count": null,
   "metadata": {},
   "outputs": [],
   "source": [
    "# Save predictions\n",
    "with open('nb_predictions.pkl', 'wb') as f:\n",
    "    pickle.dump(nb_predictions, f)\n",
    "    \n",
    "with open('lr_predictions.pkl', 'wb') as f:\n",
    "    pickle.dump(lr_predictions, f)\n",
    "    \n",
    "with open('rf_predictions.pkl', 'wb') as f:\n",
    "    pickle.dump(rf_predictions, f)\n",
    "    \n",
    "with open('nn_predictions.pkl', 'wb') as f:\n",
    "    pickle.dump(nn_predictions, f)"
   ]
  },
  {
   "cell_type": "code",
   "execution_count": null,
   "metadata": {},
   "outputs": [],
   "source": []
  }
 ],
 "metadata": {
  "kernelspec": {
   "display_name": "Python 3",
   "language": "python",
   "name": "python3"
  },
  "language_info": {
   "codemirror_mode": {
    "name": "ipython",
    "version": 3
   },
   "file_extension": ".py",
   "mimetype": "text/x-python",
   "name": "python",
   "nbconvert_exporter": "python",
   "pygments_lexer": "ipython3",
   "version": "3.8.3"
  }
 },
 "nbformat": 4,
 "nbformat_minor": 5
}
